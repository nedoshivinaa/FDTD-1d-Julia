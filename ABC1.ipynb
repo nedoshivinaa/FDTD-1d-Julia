{
 "cells": [
  {
   "cell_type": "code",
   "execution_count": 1,
   "metadata": {
    "collapsed": false
   },
   "outputs": [],
   "source": [
    "using JLD"
   ]
  },
  {
   "cell_type": "code",
   "execution_count": 2,
   "metadata": {
    "collapsed": true
   },
   "outputs": [],
   "source": [
    "# tic()"
   ]
  },
  {
   "cell_type": "code",
   "execution_count": 3,
   "metadata": {
    "collapsed": false
   },
   "outputs": [
    {
     "name": "stdout",
     "output_type": "stream",
     "text": [
      "f = 2400.000 MHz - frequency\n",
      "λ = 0.125 m - wavelength\n",
      "λ = 0.125 m - wavelength in media\n",
      "2.49828 mm - space step\n",
      "8.333E6 us - time step\n",
      "2.000 m - space domain length\n",
      "0.0200 us - time domain length\n",
      "801 - number of space steps\n",
      "2400 - number of time steps\n"
     ]
    }
   ],
   "source": [
    "# Определение параметров дискретизации\n",
    "\n",
    "c = 299792458; #Скорость света [м/с]\n",
    "# c = 3e8; #Скорость света [м/с]\n",
    "frequency = 2.4e9; # Базовая частота [Гц]\n",
    "wavelength = c/frequency; # Длина волны в вакууме [м]\n",
    "\n",
    "# стекло\n",
    "eps_media=4.7\n",
    "mu_media=0.999987\n",
    "sig_media=1e-11\n",
    "\n",
    "# медь\n",
    "# eps_media=1.\n",
    "# mu_media=0.999994\n",
    "# sig_media=59.5e6\n",
    "\n",
    "\n",
    "n_coef=sqrt(eps_media*mu_media)\n",
    "\n",
    "wavelength_in_media = c/n_coef/frequency; # Длина волны в вакууме [м]\n",
    "\n",
    "@printf \"f = %.3f MHz - frequency\\n\" frequency/10^6;\n",
    "@printf \"λ = %.3f m - wavelength\\n\" wavelength;\n",
    "@printf \"λ = %.3f m - wavelength in media\\n\" wavelength_in_media;\n",
    "\n",
    "# dz = wavelength/100 # Шаг дискретизации пространства [м]\n",
    "dz = wavelength_in_media/50 # Шаг дискретизации пространства [м]\n",
    "dt = dz/c # Шаг дискретизации времени [с], Магическое соотношение\n",
    "\n",
    "@printf \"%.5f mm - space step\\n\" dz*1000;\n",
    "@printf \"%.3fE6 us - time step\\n\" dt*10^12;\n",
    "\n",
    "# nlength = Int(round(10*wavelength/dz)) # Количество точек разбиения пространства\n",
    "# xSteps = 2000 # Количество точек разбиения пространства\n",
    "# timeSteps = 5000 # Количество временных шагов\n",
    "\n",
    "S_domain=2\n",
    "T_domain=0.02e-6\n",
    "\n",
    "# @printf \"%.3f m - space domain length\\n\" xSteps*dz;\n",
    "# @printf \"%.4f us - time domain length\\n\" timeSteps*dt*1000000;\n",
    "@printf \"%.3f m - space domain length\\n\" S_domain;\n",
    "@printf \"%.4f us - time domain length\\n\" T_domain*1000000;\n",
    "\n",
    "xSteps = Int(round(S_domain/dz)) # Количество точек разбиения пространства\n",
    "timeSteps = Int(round(T_domain/dt)) # Количество временных шагов\n",
    "@printf \"%d - number of space steps\\n\" xSteps;\n",
    "@printf \"%d - number of time steps\\n\" timeSteps;\n"
   ]
  },
  {
   "cell_type": "code",
   "execution_count": 4,
   "metadata": {
    "collapsed": false
   },
   "outputs": [],
   "source": [
    "mu0 = 4*pi*10.0^-7; # Магнитная проницаемость\n",
    "eps0 = 1/(mu0*c*c); # Диэлектрическая проницаемость\n",
    "# Инициализация массивов проводимости, диэлектрической и магнитной проницаемости\n",
    "sigma  = zeros(xSteps);\n",
    "epsilon = ones(xSteps);\n",
    "mu = ones(xSteps);\n",
    "# Инициализация массивов коэффициентов\n",
    "Ca = zeros(xSteps);\n",
    "Cb = zeros(xSteps);\n",
    "Da = zeros(xSteps);\n",
    "Db = zeros(xSteps);\n",
    "# Инициализация массивов полей\n",
    "Ex=zeros(timeSteps,xSteps)\n",
    "Hy=zeros(timeSteps,xSteps)\n",
    "# Пространсвенная ось\n",
    "# x = linspace(0,wavelength*10,nlength)\n",
    "x = linspace(dz,xSteps*dz,xSteps)\n",
    "# Ось времени\n",
    "t= linspace(dt,timeSteps*dt,timeSteps);"
   ]
  },
  {
   "cell_type": "code",
   "execution_count": 5,
   "metadata": {
    "collapsed": false
   },
   "outputs": [],
   "source": [
    "# Начальные условия\n",
    "Nu, delta = x[end]/4, wavelength/4 #Переменные ню и дельта для начального распределения Гаусса\n",
    "G=exp(-((x-Nu).^2)/(2*delta^2)) #Начальное распределение Гаусса\n",
    "# Параметры среды\n",
    "left_bord_ind=Int(round(length(x)/2))\n",
    "right_bord_ind=Int(round(length(x)/4*3));\n",
    "# left_bord_ind=1;\n",
    "# right_bord_ind=length(x);\n",
    "sigma[left_bord_ind:right_bord_ind]=sig_media;\n",
    "epsilon[left_bord_ind:right_bord_ind]=eps_media;\n",
    "# mu[left_bord_ind:right_bord_ind]=12.6;\n",
    "mu[left_bord_ind:right_bord_ind]=mu_media;\n",
    "\n",
    "# Ex[1,:]=G;\n",
    "# Hy[1,:]=1/120pi*G;"
   ]
  },
  {
   "cell_type": "raw",
   "metadata": {},
   "source": [
    "using Plots\n",
    "gr()\n",
    "temp=collect(linspace(0,1,length(x)))\n",
    "temp1=ones(x)*x[left_bord_ind];\n",
    "temp2=ones(x)*x[right_bord_ind];\n",
    "plot([x, temp1,temp2],[G, temp,temp],xlims=(0,x[end]))"
   ]
  },
  {
   "cell_type": "code",
   "execution_count": 6,
   "metadata": {
    "collapsed": false
   },
   "outputs": [
    {
     "data": {
      "text/plain": [
       "signal_gen (generic function with 1 method)"
      ]
     },
     "execution_count": 6,
     "metadata": {},
     "output_type": "execute_result"
    }
   ],
   "source": [
    "function signal_gen(t,f)\n",
    "    signal=cos(2*pi*f/50.*(t-dt)).*sin(2*pi*f.*(t-dt))\n",
    "#     signal=sin(2*pi*f.*(t-dt))\n",
    "    return signal\n",
    "end"
   ]
  },
  {
   "cell_type": "code",
   "execution_count": 7,
   "metadata": {
    "collapsed": false
   },
   "outputs": [
    {
     "data": {
      "text/plain": [
       "200"
      ]
     },
     "execution_count": 7,
     "metadata": {},
     "output_type": "execute_result"
    }
   ],
   "source": [
    "# signal=zeros(t)\n",
    "signal=signal_gen(t,frequency);\n",
    "signal_pos=Int(round(length(x)/4))"
   ]
  },
  {
   "cell_type": "code",
   "execution_count": 8,
   "metadata": {
    "collapsed": false
   },
   "outputs": [],
   "source": [
    "Ca=(1-((sigma*dt)./(2*eps0*epsilon)))./(1+((sigma*dt)./(2*eps0*epsilon)))\n",
    "Cb = (dt./(eps0*dz*epsilon))./(1+((sigma*dt)./(2*eps0*epsilon)))\n",
    "Da = (1-sigma*dt./2mu)./(1+sigma*dt./(2*mu0*mu))\n",
    "Db = (dt./(mu*mu0*dz))./(1+sigma*dt./(2*mu0*mu))\n",
    "\n",
    "# Ex[1,Int(round(length(x)/4))]+=signal_gen(t[1],frequency)\n",
    "# Ex[1,Int(round(length(x)/4))+1]+=signal_gen(t[1],frequency)\n",
    "Ex[1,Int(round(length(x)/4))]+=signal[1]\n",
    "Ex[1,Int(round(length(x)/4))+1]+=signal[1]\n",
    "\n",
    "for n = 2:timeSteps #Расчет\n",
    "    Ex[n,1] = Ex[n-1,2] + ((c*dt-dz)/(c*dt+dz))*(Ex[n,2]-Ex[n-1,1]) #Левая граница в настоящий момент времени. Граничные условия ABC\n",
    "    Ex[n,2:xSteps] = Ca[2:xSteps].*Ex[n-1,2:xSteps] - Cb[2:xSteps].*(Hy[n-1,2:xSteps]-Hy[n-1,1:xSteps-1]) #Расчет Ex в данный момент времени по всему пространству. Зависит от Hy в прошлый половинный момент времени\n",
    "    \n",
    "#     Ex[n,Int(round(length(x)/4))]+=signal_gen(t[n],frequency)\n",
    "#     Ex[n,Int(round(length(x)/4))+1]+=signal_gen(t[n],frequency)\n",
    "    Ex[n,signal_pos]+=signal[n]\n",
    "    Ex[n,signal_pos+1]+=signal[n]\n",
    "    \n",
    "    Hy[n,1:xSteps-1] = Da[1:xSteps-1].*Hy[n-1,1:xSteps-1] - Db[1:xSteps-1].*(Ex[n,2:xSteps]-Ex[n,1:xSteps-1]) #Расчет Hy в данный момент времени по всему пространству\n",
    "    Hy[n,xSteps] = Hy[n-1,xSteps-1] + ((c*dt-dz)/(c*dt+dz))*(Hy[n,xSteps-1]-Hy[n-1,xSteps]) #Правая граница в настоящий момент времени. Граничные условия -- ABC\n",
    "end\n",
    "\n",
    "# toc()\n"
   ]
  },
  {
   "cell_type": "code",
   "execution_count": 9,
   "metadata": {
    "collapsed": false
   },
   "outputs": [],
   "source": [
    "save(\"data.jld\", \"Ex\", Ex, \"Hy\", Hy, \"dt\", dt, \"dz\", dz, \"G\", G, \"x\", collect(x), \"t\", collect(t),\"signal\",signal,\"signal_pos\",signal_pos,\"xSteps\", xSteps, \"timeSteps\", timeSteps,\"left_bord_ind\",left_bord_ind,\"right_bord_ind\",right_bord_ind)"
   ]
  },
  {
   "cell_type": "raw",
   "metadata": {},
   "source": [
    "using Plots\n",
    "gr()\n",
    "plot(t,signal)"
   ]
  }
 ],
 "metadata": {
  "kernelspec": {
   "display_name": "Julia 0.5.0",
   "language": "julia",
   "name": "julia-0.5"
  },
  "language_info": {
   "file_extension": ".jl",
   "mimetype": "application/julia",
   "name": "julia",
   "version": "0.5.0"
  }
 },
 "nbformat": 4,
 "nbformat_minor": 1
}
